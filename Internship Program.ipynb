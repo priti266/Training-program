{
 "cells": [
  {
   "cell_type": "markdown",
   "id": "0d6b9f7c",
   "metadata": {},
   "source": [
    "**Internship Program**"
   ]
  },
  {
   "cell_type": "code",
   "execution_count": 1,
   "id": "3da48a0f",
   "metadata": {},
   "outputs": [
    {
     "name": "stdout",
     "output_type": "stream",
     "text": [
      "priti\n",
      "1\n",
      "10\n"
     ]
    }
   ],
   "source": [
    "class category:\n",
    "    def __init__(customer, name,code,no_of_product):\n",
    "        customer.name = name\n",
    "        customer.code = code\n",
    "        customer.no_of_product = no_of_product\n",
    "    \n",
    "p1 = category(\"priti\",\"A01\",10)\n",
    "\n",
    "print(p1.name)\n",
    "print(p1.code)\n",
    "print(p1.no_of_product)\n",
    "\n",
    "\n",
    "    \n",
    "\n"
   ]
  },
  {
   "cell_type": "code",
   "execution_count": 2,
   "id": "0c6bb3fc",
   "metadata": {},
   "outputs": [
    {
     "name": "stdout",
     "output_type": "stream",
     "text": [
      "Mobile_phone\n",
      "A01\n",
      "vivo\n",
      "10000\n"
     ]
    }
   ],
   "source": [
    "class product:\n",
    "    def __init__(pdt,name,code,category,price):\n",
    "        pdt.name=name\n",
    "        pdt.code=code\n",
    "        pdt.category=category\n",
    "        pdt.price=price\n",
    "        \n",
    "c1 = product(\"Mobile_phone\",\"A01\",\"vivo\",10000)\n",
    "\n",
    "print(c1.name)\n",
    "print(c1.code)\n",
    "print(c1.category)\n",
    "print(c1.price)\n",
    "\n",
    "    "
   ]
  },
  {
   "cell_type": "code",
   "execution_count": 1,
   "id": "11ec1ada",
   "metadata": {},
   "outputs": [
    {
     "name": "stdout",
     "output_type": "stream",
     "text": [
      "preeti\n",
      "priya\n",
      "prisha\n"
     ]
    }
   ],
   "source": [
    "class Category:\n",
    "    cus_names = [\"preeti\", \"priya\", \"prisha\"]\n",
    "\n",
    "c1 = Category()\n",
    "c2 = Category()\n",
    "c3 = Category()\n",
    "\n",
    "print(c1.cus_names[0])\n",
    "print(c2.cus_names[1])\n",
    "print(c3.cus_names[2])\n",
    "\n",
    "    "
   ]
  },
  {
   "cell_type": "code",
   "execution_count": 4,
   "id": "d62063e2",
   "metadata": {},
   "outputs": [
    {
     "name": "stdout",
     "output_type": "stream",
     "text": [
      "Product 1: Laptop = 45000\n",
      "Product 2: Smartphone = 25000\n",
      "Product 3: Earphones = 1000\n",
      "Product 4: TV = 40000\n",
      "Product 5: Fridge = 20000\n",
      "Product 6: AC = 50000\n",
      "Product 7: Headphones = 3000\n",
      "Product 8: Shirts = 500\n",
      "Product 9: T-shirts = 400\n",
      "Product 10: Fan = 2000\n"
     ]
    }
   ],
   "source": [
    "class Product:\n",
    "    def __init__(self, name, price):\n",
    "        self.name = name\n",
    "        self.price = price\n",
    "\n",
    "products_list = [\n",
    "    Product(\"Laptop\", 45000),\n",
    "    Product(\"Smartphone\", 25000),\n",
    "    Product(\"Earphones\", 1000),\n",
    "    Product(\"TV\", 40000),\n",
    "    Product(\"Fridge\", 20000),\n",
    "    Product(\"AC\", 50000),\n",
    "    Product(\"Headphones\", 3000),\n",
    "    Product(\"Shirts\", 500),\n",
    "    Product(\"T-shirts\", 400),\n",
    "    Product(\"Fan\", 2000)\n",
    "]\n",
    "\n",
    "for idx, product in enumerate(products_list, start=1):\n",
    "    print(f\"Product {idx}: {product.name} = {product.price}\")\n",
    "\n",
    "\n",
    "\n",
    "    "
   ]
  },
  {
   "cell_type": "code",
   "execution_count": 6,
   "id": "66fcfaa3",
   "metadata": {},
   "outputs": [
    {
     "name": "stdout",
     "output_type": "stream",
     "text": [
      "Category: Electronics, No. of Products: 5\n",
      "Category: Appliances, No. of Products: 3\n",
      "Category: Clothing, No. of Products: 2\n"
     ]
    }
   ],
   "source": [
    "class Product:\n",
    "    def __init__(self, pname, code, category):\n",
    "        self.pdt_pname = pname\n",
    "        self.pdt_code = code\n",
    "        self.pdt_category = category\n",
    "\n",
    "products_list = [\n",
    "    Product(\"Laptop\", \"A01\", \"Electronics\"),\n",
    "    Product(\"Smartphone\", \"A02\", \"Electronics\"),\n",
    "    Product(\"Earphones\", \"A03\", \"Electronics\"),\n",
    "    Product(\"TV\", \"A04\", \"Electronics\"),\n",
    "    Product(\"Fridge\", \"A05\", \"Appliances\"),\n",
    "    Product(\"AC\", \"A06\", \"Appliances\"),\n",
    "    Product(\"Headphones\", \"A07\", \"Electronics\"),\n",
    "    Product(\"Shirts\", \"A08\", \"Clothing\"),\n",
    "    Product(\"T-shirts\", \"A09\", \"Clothing\"),\n",
    "    Product(\"Fan\", \"A10\", \"Appliances\"),\n",
    "]\n",
    "\n",
    "category_count = {}\n",
    "\n",
    "for product in products_list:\n",
    "    if product.pdt_category in category_count:\n",
    "        category_count[product.pdt_category] += 1\n",
    "    else:\n",
    "        category_count[product.pdt_category] = 1\n",
    "\n",
    "for category, count in category_count.items():\n",
    "    print(f\"Category: {category}, No. of Products: {count}\")\n"
   ]
  },
  {
   "cell_type": "code",
   "execution_count": 7,
   "id": "01a2f848",
   "metadata": {},
   "outputs": [
    {
     "name": "stdout",
     "output_type": "stream",
     "text": [
      "Name: Laptop, Price: $50000.00, Category: Electronics\n",
      "Name: TV, Price: $45000.00, Category: Electronics\n",
      "Name: Smartphone, Price: $25000.00, Category: Electronics\n",
      "Name: Fridge, Price: $20000.00, Category: Appliances\n",
      "Name: Earphones, Price: $500.00, Category: Electronics\n",
      "\n",
      "Name: Earphones, Price: $500.00, Category: Electronics\n",
      "Name: Fridge, Price: $20000.00, Category: Appliances\n",
      "Name: Smartphone, Price: $25000.00, Category: Electronics\n",
      "Name: TV, Price: $45000.00, Category: Electronics\n",
      "Name: Laptop, Price: $50000.00, Category: Electronics\n"
     ]
    }
   ],
   "source": [
    "class Product:\n",
    "    def __init__(self, pname, code, category, price):\n",
    "        self.pdt_pname = pname\n",
    "        self.pdt_code = code\n",
    "        self.pdt_category = category\n",
    "        self.pdt_price = price\n",
    "\n",
    "products_list = [\n",
    "    Product(\"Laptop\", \"A01\", \"Electronics\", 50000),\n",
    "    Product(\"Smartphone\", \"A02\", \"Electronics\", 25000),\n",
    "    Product(\"Earphones\", \"A03\", \"Electronics\", 500),\n",
    "    Product(\"TV\", \"A04\", \"Electronics\", 45000),\n",
    "    Product(\"Fridge\", \"A05\", \"Appliances\", 20000)\n",
    "]\n",
    "\n",
    "def custom(arr, key_func, reverse=False):\n",
    "    n = len(arr)\n",
    "    for i in range(n - 1):\n",
    "        for j in range(0, n - i - 1):\n",
    "            if (not reverse and key_func(arr[j]) > key_func(arr[j + 1])) or (reverse and key_func(arr[j]) < key_func(arr[j + 1])):\n",
    "                arr[j], arr[j + 1] = arr[j + 1], arr[j]\n",
    "\n",
    "custom(products_list, key_func=lambda x: x.pdt_price, reverse=True)\n",
    "for product in products_list:\n",
    "    print(f\"Name: {product.pdt_pname}, Price: ${product.pdt_price:.2f}, Category: {product.pdt_category}\")\n",
    "print()\n",
    "\n",
    "custom(products_list, key_func=lambda x: x.pdt_price)\n",
    "for product in products_list:\n",
    "    print(f\"Name: {product.pdt_pname}, Price: ${product.pdt_price:.2f}, Category: {product.pdt_category}\")\n"
   ]
  },
  {
   "cell_type": "code",
   "execution_count": 8,
   "id": "85b74862",
   "metadata": {},
   "outputs": [
    {
     "name": "stdout",
     "output_type": "stream",
     "text": [
      "Enter product code to search: A01\n",
      "Product found:\n",
      "Name: Laptop, Code: A01, Price: 1200\n"
     ]
    }
   ],
   "source": [
    "class Product:\n",
    "    def __init__(self, pname, code, price):\n",
    "        self.pdt_pname = pname\n",
    "        self.pdt_code = code\n",
    "        self.pdt_price = price\n",
    "\n",
    "products_list = [\n",
    "    Product(\"Laptop\", \"A01\", 1200),\n",
    "    Product(\"Smartphone\", \"A02\", 800)\n",
    "]\n",
    "\n",
    "def search(products, code):\n",
    "    for product in products:\n",
    "        if product.pdt_code == code:\n",
    "            return product\n",
    "\n",
    "search_code = input(\"Enter product code to search: \")\n",
    "found_product = search(products_list, search_code)\n",
    "\n",
    "if found_product:\n",
    "    print(\"Product found:\")\n",
    "    print(f\"Name: {found_product.pdt_pname}, Code: {found_product.pdt_code}, Price: {found_product.pdt_price}\")\n",
    "else:\n",
    "    print(\"Product not found.\")\n"
   ]
  },
  {
   "cell_type": "code",
   "execution_count": 30,
   "id": "4c7780ea",
   "metadata": {},
   "outputs": [
    {
     "name": "stdout",
     "output_type": "stream",
     "text": [
      "Category: Vehicle\n",
      "Car Product 1\n",
      "Car Product 2\n",
      "Car Product 3\n"
     ]
    }
   ],
   "source": [
    "class Category:\n",
    "    def __init__(self, name, parent=None):\n",
    "        self.name = name\n",
    "        self.parent = parent\n",
    "        self.display_name = f\"{parent.display_name} > {name}\" if parent else name\n",
    "        self.products = []\n",
    "\n",
    "        if parent:\n",
    "            parent.products.extend([Product(f\"{self.name} Product {i+1}\") for i in range(3)])\n",
    "\n",
    "class Product:\n",
    "    def __init__(self, name):\n",
    "        self.name = name\n",
    "\n",
    "vehicle = Category(\"Vehicle\")\n",
    "car = Category(\"Car\", parent=vehicle)\n",
    "petrol = Category(\"Petrol\", parent=car)\n",
    "\n",
    "print(\"Category: Vehicle\")\n",
    "for product in vehicle.products:\n",
    "    print(product.name)\n"
   ]
  },
  {
   "cell_type": "code",
   "execution_count": 33,
   "id": "7107483a",
   "metadata": {},
   "outputs": [
    {
     "name": "stdout",
     "output_type": "stream",
     "text": [
      "Category: Vehicle\n",
      "Car Product 1\n",
      "Car Product 2\n",
      "Car Product 3\n",
      "Display Name of Car: Vehicle > Car\n"
     ]
    }
   ],
   "source": [
    "class Category:\n",
    "    def __init__(self, name, parent=None):\n",
    "        self.name = name\n",
    "        self.parent = parent\n",
    "        self.products = []\n",
    "\n",
    "        if parent:\n",
    "            parent.products.extend([Product(f\"{self.name} Product {i+1}\") for i in range(3)])\n",
    "\n",
    "    def generate_display_name(self):\n",
    "        return f\"{self.parent.generate_display_name()} > {self.name}\" if self.parent else self.name\n",
    "\n",
    "class Product:\n",
    "    def __init__(self, name):\n",
    "        self.name = name\n",
    "\n",
    "vehicle = Category(\"Vehicle\")\n",
    "car = Category(\"Car\", parent=vehicle)\n",
    "petrol = Category(\"Petrol\", parent=car)\n",
    "\n",
    "print(\"Category: Vehicle\")\n",
    "for product in vehicle.products:\n",
    "    print(product.name)\n",
    "    \n",
    "print(\"Display Name of Car:\", car.generate_display_name())\n"
   ]
  },
  {
   "cell_type": "code",
   "execution_count": 21,
   "id": "ea5d4189",
   "metadata": {},
   "outputs": [
    {
     "name": "stdout",
     "output_type": "stream",
     "text": [
      "Category: Vehicle, Parent: None, Display Name: Vehicle\n",
      "Category: Car, Parent: Vehicle, Display Name: Vehicle > Car\n",
      "Category: Petrol, Parent: Car, Display Name: Car > Petrol\n"
     ]
    }
   ],
   "source": [
    "class category:\n",
    "        def display1_name(category, parent=None):\n",
    "            if parent:\n",
    "                return f\"{parent} > {category}\"\n",
    "            return category\n",
    "\n",
    "\n",
    "categories = [\n",
    "    (\"Vehicle\", None),\n",
    "    (\"Car\", \"Vehicle\"),\n",
    "    (\"Petrol\", \"Car\")\n",
    "]\n",
    "\n",
    "category_instance = Category()\n",
    "\n",
    "for category, parent in categories:\n",
    "    display_name = category_instance.display1_name(category, parent)\n",
    "    print(f\"Category: {category}, Parent: {parent}, Display Name: {display_name}\")"
   ]
  },
  {
   "cell_type": "code",
   "execution_count": 27,
   "id": "d56f4b0c",
   "metadata": {},
   "outputs": [
    {
     "name": "stdout",
     "output_type": "stream",
     "text": [
      "Category: Electronics\n",
      "Smartphones\n",
      "Laptops\n",
      "\n",
      "\n",
      "Category: Clothes\n",
      "Dress\n",
      "Crop Tops\n",
      "\n",
      "\n"
     ]
    }
   ],
   "source": [
    "class Category:\n",
    "    def __init__(self, name, parent=None):\n",
    "        self.name = name\n",
    "        self.parent = parent\n",
    "        self.children = []\n",
    "\n",
    "        if parent:\n",
    "            parent.add_child(self)\n",
    "\n",
    "    def add_child(self, child):\n",
    "        self.children.append(child)\n",
    "\n",
    "electronics = Category(\"Electronics\")\n",
    "smartphones = Category(\"Smartphones\", parent=electronics)\n",
    "laptops = Category(\"Laptops\", parent=electronics)\n",
    "clothes = Category(\"Clothes\")\n",
    "dress = Category(\"Dress\", parent=clothes)\n",
    "crop_tops = Category(\"Crop Tops\", parent=clothes)\n",
    "\n",
    "print(\"Category: Electronics\")\n",
    "print(\"Smartphones\" if electronics.children else \"\")\n",
    "print(\"Laptops\" if electronics.children else \"\")\n",
    "print(\"\\n\")\n",
    "\n",
    "print(\"Category: Clothes\")\n",
    "print(\"Dress\" if clothes.children else \"\")\n",
    "print(\"Crop Tops\" if clothes.children else \"\")\n",
    "print(\"\\n\")\n"
   ]
  },
  {
   "cell_type": "code",
   "execution_count": 37,
   "id": "dcaa20e1",
   "metadata": {},
   "outputs": [
    {
     "name": "stdout",
     "output_type": "stream",
     "text": [
      "Category: Vehicle\n",
      "Car Product 1\n",
      "Car Product 2\n",
      "Car Product 3\n"
     ]
    }
   ],
   "source": [
    "class Category:\n",
    "    def __init__(self, name, parent=None):\n",
    "        self.name = name\n",
    "        self.parent = parent\n",
    "        self.products = []\n",
    "\n",
    "        if parent:\n",
    "            parent.products.extend([Product(f\"{self.name} Product {i+1}\") for i in range(3)])\n",
    "\n",
    "class Product:\n",
    "    def __init__(self, name):\n",
    "        self.name = name\n",
    "\n",
    "vehicle = Category(\"Vehicle\")\n",
    "car = Category(\"Car\", parent=vehicle)\n",
    "petrol = Category(\"Petrol\", parent=car)\n",
    "\n",
    "print(\"Category: Vehicle\")\n",
    "for product in vehicle.products:\n",
    "    print(product.name)\n"
   ]
  },
  {
   "cell_type": "code",
   "execution_count": 54,
   "id": "2f0f1837",
   "metadata": {},
   "outputs": [
    {
     "name": "stdout",
     "output_type": "stream",
     "text": [
      "Category Code: A01\n",
      "Display Name: smartphones\n",
      "Products:\n",
      "- vivo, Price: $12000\n",
      "\n",
      "\n",
      "Category Code: A02\n",
      "Display Name: charger\n",
      "Products:\n",
      "- Apple, Price: $25000\n",
      "\n",
      "\n",
      "Category Code: A03\n",
      "Display Name: earphones\n",
      "Products:\n",
      "- iphone, Price: $80000\n",
      "\n",
      "\n"
     ]
    }
   ],
   "source": [
    "class category:\n",
    "    def __init__(self, code, name):\n",
    "        self.code = code\n",
    "        self.name = name\n",
    "        self.products = []\n",
    "        \n",
    "    def add_product(self, product):\n",
    "        self.products.append(product)\n",
    "            \n",
    "class product:\n",
    "    def __init__(self, name, price):\n",
    "        self.name = name\n",
    "        self.price = price\n",
    "        \n",
    "cat = [\n",
    "    category(\"A01\", \"smartphones\"),\n",
    "    category(\"A02\", \"charger\"),\n",
    "    category(\"A03\", \"earphones\")\n",
    "]\n",
    "\n",
    "products = [\n",
    "    Product(\"vivo\", 12000),\n",
    "    Product(\"Apple\", 25000),\n",
    "    Product(\"iphone\", 80000)\n",
    "]\n",
    "\n",
    "for i, product in enumerate(products):\n",
    "    cat[i % len(cat)].add_product(product)\n",
    "\n",
    "for category in cat:\n",
    "    print(f\"Category Code: {category.code}\")\n",
    "    print(f\"Display Name: {category.name}\")\n",
    "    print(\"Products:\")\n",
    "    for product in category.products:\n",
    "        print(f\"- {product.name}, Price: ${product.price}\")\n",
    "    print(\"\\n\")\n"
   ]
  },
  {
   "cell_type": "code",
   "execution_count": 57,
   "id": "45103ec9",
   "metadata": {},
   "outputs": [
    {
     "name": "stdout",
     "output_type": "stream",
     "text": [
      "Category Code: A02\n",
      "Display Name: charger\n",
      "Products:\n",
      "- vivo, Price: $12000\n",
      "- Samsung, Price: $15000\n",
      "\n",
      "\n",
      "Category Code: A03\n",
      "Display Name: earphones\n",
      "Products:\n",
      "- Apple, Price: $25000\n",
      "- Headphones, Price: $100\n",
      "\n",
      "\n",
      "Category Code: A01\n",
      "Display Name: smartphones\n",
      "Products:\n",
      "- iphone, Price: $80000\n",
      "- Charger, Price: $30\n",
      "\n",
      "\n"
     ]
    }
   ],
   "source": [
    "from itertools import groupby\n",
    "\n",
    "class Category:\n",
    "    def __init__(self, code, name):\n",
    "        self.code = code\n",
    "        self.name = name\n",
    "        self.products = []\n",
    "        \n",
    "    def add_product(self, product):\n",
    "        self.products.append(product)\n",
    "            \n",
    "class Product:\n",
    "    def __init__(self, name, price):\n",
    "        self.name = name\n",
    "        self.price = price\n",
    "\n",
    "categories = [\n",
    "    Category(\"A02\", \"charger\"),\n",
    "    Category(\"A03\", \"earphones\"),\n",
    "    Category(\"A01\", \"smartphones\")\n",
    "]\n",
    "\n",
    "products = [\n",
    "    Product(\"vivo\", 12000),\n",
    "    Product(\"Apple\", 25000),\n",
    "    Product(\"iphone\", 80000),\n",
    "    Product(\"Samsung\", 15000),\n",
    "    Product(\"Headphones\", 100),\n",
    "    Product(\"Charger\", 30)\n",
    "]\n",
    "\n",
    "for i, product in enumerate(products):\n",
    "    categories[i % len(categories)].add_product(product)\n",
    "    \n",
    "categories.sort(key=lambda category: category.name)\n",
    "\n",
    "for category in categories:\n",
    "    print(f\"Category Code: {category.code}\")\n",
    "    print(f\"Display Name: {category.name}\")\n",
    "    print(\"Products:\")\n",
    "    for product in category.products:\n",
    "        print(f\"- {product.name}, Price: ${product.price}\")\n",
    "    print(\"\\n\")\n"
   ]
  },
  {
   "cell_type": "code",
   "execution_count": 78,
   "id": "8ff1c76e",
   "metadata": {},
   "outputs": [
    {
     "name": "stdout",
     "output_type": "stream",
     "text": [
      "india\n",
      "91\n"
     ]
    }
   ],
   "source": [
    "class location :\n",
    "    def __init__(self,name,code):\n",
    "        self.name = name\n",
    "        self.code = code\n",
    "        \n",
    "l1=location(\"india\",91)\n",
    "    \n",
    "print(l1.name)\n",
    "print(l1.code)"
   ]
  },
  {
   "cell_type": "code",
   "execution_count": 97,
   "id": "32578742",
   "metadata": {},
   "outputs": [
    {
     "name": "stdout",
     "output_type": "stream",
     "text": [
      "Ahmadabad vadodara Phone 10\n"
     ]
    }
   ],
   "source": [
    "class movement:\n",
    "    def __init__(self, f_loc,to_loc, product, quantity):\n",
    "        self.f_loc=f_loc\n",
    "        self.to_loc=to_loc\n",
    "        self.product=product\n",
    "        self.quantity=quantity\n",
    "        \n",
    "m1=movement(\"Ahmadabad\",\"vadodara\",\"Phone\",10)\n",
    "\n",
    "print(m1.f_loc,m1.to_loc, m1.product, m1.quantity)\n",
    "        \n",
    "    "
   ]
  },
  {
   "cell_type": "code",
   "execution_count": 111,
   "id": "b652cc04",
   "metadata": {},
   "outputs": [
    {
     "name": "stdout",
     "output_type": "stream",
     "text": [
      "phone\n"
     ]
    }
   ],
   "source": [
    " class movement:\n",
    "    def __init__(self, product):\n",
    "        self.product = product\n",
    "        \n",
    "    @staticmethod\n",
    "    def movements_by_product(product):\n",
    "        return product\n",
    "\n",
    "m1=movement(\"phone\")\n",
    "\n",
    "print(m1.product)\n"
   ]
  },
  {
   "cell_type": "code",
   "execution_count": 19,
   "id": "18978921",
   "metadata": {},
   "outputs": [
    {
     "name": "stdout",
     "output_type": "stream",
     "text": [
      "{'location': 'vadodara', 'location2': 'rajkot', 'location3': 'aanand'}\n"
     ]
    }
   ],
   "source": [
    "class product:\n",
    "    def __init__(self, stock_at_location):\n",
    "        self.stock_at_location=stock_at_location\n",
    "        \n",
    "\n",
    "stock_at_location={\n",
    "        \"location\" : \"vadodara\",\n",
    "        \"location2\" : \"rajkot\",\n",
    "        \"location3\" : \"aanand\"\n",
    "}\n",
    "\n",
    "print(stock_at_location)\n"
   ]
  },
  {
   "cell_type": "code",
   "execution_count": 21,
   "id": "de06b3c4",
   "metadata": {},
   "outputs": [
    {
     "name": "stdout",
     "output_type": "stream",
     "text": [
      "pune\n",
      "mumbai\n",
      "Goa\n",
      "Ranjkot\n"
     ]
    }
   ],
   "source": [
    "class location:\n",
    "    def __init__(self,name):\n",
    "        self.name=name\n",
    "        \n",
    "l1=location(\"pune\")\n",
    "l2=location(\"mumbai\")\n",
    "l3=location(\"Goa\")\n",
    "l4=location(\"Ranjkot\")\n",
    "\n",
    "print(l1.name)\n",
    "print(l2.name)\n",
    "print(l3.name)\n",
    "print(l4.name)\n",
    "\n"
   ]
  },
  {
   "cell_type": "code",
   "execution_count": 25,
   "id": "2f2c84f1",
   "metadata": {},
   "outputs": [
    {
     "name": "stdout",
     "output_type": "stream",
     "text": [
      "laptop\n",
      "TV\n",
      "smartphone\n",
      "earphones\n",
      "AC\n"
     ]
    }
   ],
   "source": [
    "class product:\n",
    "    def __init__(self,name):\n",
    "        self.name=name\n",
    "        \n",
    "p1=product(\"laptop\")\n",
    "p2=product(\"TV\")\n",
    "p3=product(\"smartphone\")\n",
    "p4=product(\"earphones\")\n",
    "p5=product(\"AC\")\n",
    "\n",
    "print(p1.name)\n",
    "print(p2.name)\n",
    "print(p3.name)\n",
    "print(p4.name)\n",
    "print(p5.name)\n",
    "\n",
    "\n",
    "        \n"
   ]
  },
  {
   "cell_type": "code",
   "execution_count": 47,
   "id": "a96db631",
   "metadata": {},
   "outputs": [
    {
     "name": "stdout",
     "output_type": "stream",
     "text": [
      "Error: movement failed: Insufficient stock\n",
      "pune has vivo: 4 available\n",
      "Delhi has vivo: 2, Apple: 3 available\n",
      "canada has Apple: 1 available\n"
     ]
    }
   ],
   "source": [
    "class Category:\n",
    "    def __init__(self, code, name):\n",
    "        self.code = code\n",
    "        self.name = name\n",
    "        self.products = []\n",
    "        \n",
    "    def add_product(self, product):\n",
    "        self.products.append(product)\n",
    "        \n",
    "    def remove_product(self, product_name, quantity=1):\n",
    "        for product in self.products:\n",
    "            if product.name == product_name:\n",
    "                if len(self.products) >= quantity:\n",
    "                    self.products.remove(product)\n",
    "                else:\n",
    "                    raise ValueError(\"stock insufficient\")\n",
    "                break\n",
    "        else:\n",
    "            raise ValueError(\"product not found\")\n",
    "\n",
    "class Product:\n",
    "    def __init__(self, name, price):\n",
    "        self.name = name\n",
    "        self.price = price\n",
    "\n",
    "class Location:\n",
    "    def __init__(self, name):\n",
    "        self.name = name\n",
    "        self.stock = {}\n",
    "        \n",
    "    def add_stock(self, product_name, quantity):\n",
    "        if product_name in self.stock:\n",
    "            self.stock[product_name] += quantity\n",
    "        else:\n",
    "            self.stock[product_name] = quantity\n",
    "        \n",
    "    def remove_stock(self, product_name, quantity):\n",
    "        if product_name in self.stock:\n",
    "            if self.stock[product_name] >= quantity:\n",
    "                self.stock[product_name] -= quantity\n",
    "            else:\n",
    "                raise ValueError(\"Insufficient stock\")\n",
    "        else:\n",
    "            raise ValueError(\"Product not found\")\n",
    "\n",
    "def movement_by_product(from_location, to_location, product_name, quantity):\n",
    "    try:\n",
    "        from_location.remove_stock(product_name, quantity)\n",
    "        to_location.add_stock(product_name, quantity)\n",
    "    except ValueError as e:\n",
    "        raise ValueError(f\"movement failed: {e}\")\n",
    "\n",
    "categories = [\n",
    "    Category(\"1\", \"laptop\"),\n",
    "    Category(\"2\", \"TV\"),\n",
    "    Category(\"3\", \"AC\")\n",
    "]\n",
    "\n",
    "products = [\n",
    "    Product(\"Redmi\", 10000),\n",
    "    Product(\"Apple\", 30000),\n",
    "    Product(\"iphone\", 60000),\n",
    "    Product(\"Samsung\", 31000),\n",
    "    Product(\"Headphones\", 3000),\n",
    "    Product(\"earphones\", 100)\n",
    "]\n",
    "\n",
    "locations = [\n",
    "    Location(\"pune\"),\n",
    "    Location(\"Delhi\"),\n",
    "    Location(\"canada\")\n",
    "]\n",
    "\n",
    "for i, product in enumerate(products):\n",
    "    categories[i % len(categories)].add_product(product)\n",
    "\n",
    "locations[0].add_stock(\"vivo\", 4)\n",
    "locations[1].add_stock(\"vivo\", 2)\n",
    "locations[1].add_stock(\"Apple\", 3)\n",
    "locations[2].add_stock(\"Apple\", 1)\n",
    "\n",
    "try:\n",
    "    movement_by_product(locations[0], locations[1], \"vivo\", 5)\n",
    "except ValueError as e:\n",
    "    print(f\"Error: {e}\")\n",
    "for location in locations:\n",
    "    stock_info = \", \".join([f\"{product}: {quantity}\" for product, quantity in location.stock.items()])\n",
    "    print(f\"{location.name} has {stock_info} available\")\n"
   ]
  },
  {
   "cell_type": "code",
   "execution_count": 4,
   "id": "83677492",
   "metadata": {},
   "outputs": [
    {
     "name": "stdout",
     "output_type": "stream",
     "text": [
      "Product: laptop\n",
      "  Movement: Moved from  pune to Mumbai\n",
      "\n",
      "Product: laptop\n",
      "  Movement: Moved from  pune to Mumbai\n",
      "\n",
      "Product: TV\n",
      "  Movement: Moved from Mumbai to Vadodara\n",
      "\n",
      "Product: laptop\n",
      "  Movement: Moved from  pune to Mumbai\n",
      "\n",
      "Product: TV\n",
      "  Movement: Moved from Mumbai to Vadodara\n",
      "\n",
      "Product: Macbook\n",
      "  Movement: Moved from Mumbai to Vadodara\n",
      "\n"
     ]
    }
   ],
   "source": [
    "class Movement:\n",
    "    def __init__(self):\n",
    "        self.movement_data = {}\n",
    "\n",
    "    def track_movement(self, product, movement):\n",
    "        if product in self.movement_data:\n",
    "            self.movement_data[product].append(movement)\n",
    "        else:\n",
    "            self.movement_data[product] = [movement]\n",
    "\n",
    "        for product, movements in self.movement_data.items():\n",
    "            print(f\"Product: {product}\")\n",
    "            for movement in movements:\n",
    "                print(f\"  Movement: {movement}\")\n",
    "            print()\n",
    "\n",
    "tracker = Movement()\n",
    "tracker.track_movement(\"laptop\", \"Moved from  pune to Mumbai\")\n",
    "tracker.track_movement(\"TV\", \"Moved from Mumbai to Vadodara\")\n",
    "tracker.track_movement(\"Macbook\", \"Moved from Mumbai to Vadodara\")\n"
   ]
  },
  {
   "cell_type": "code",
   "execution_count": 60,
   "id": "e3db993a",
   "metadata": {},
   "outputs": [
    {
     "name": "stdout",
     "output_type": "stream",
     "text": [
      "Product: Laptop\n",
      " - Location: Ahmadabad, Stock: 10\n",
      " - Location: Gorva, Stock: 25\n",
      " - Location: vadodara, Stock: 46\n",
      "Product: Tablet\n",
      " - Location: Ahmadabad, Stock: 37\n",
      " - Location: Gorva, Stock: 35\n",
      " - Location: vadodara, Stock: 28\n",
      "Product: TV\n",
      " - Location: Ahmadabad, Stock: 50\n",
      " - Location: Gorva, Stock: 55\n",
      " - Location: vadodara, Stock: 38\n"
     ]
    }
   ],
   "source": [
    "def display_product_stock(product_stock):\n",
    "    product_lines = [\n",
    "        f\"Product: {product}\\n\"\n",
    "        + \"\\n\".join([f\" - Location: {location}, Stock: {stock}\" for location, stock in locations.items()])\n",
    "        for product, locations in product_stock.items()\n",
    "    ]\n",
    "    print(\"\\n\".join(product_lines))\n",
    "stock_at_locations = {\n",
    "    \"Laptop\": {\n",
    "        \"Ahmadabad\": 10,\n",
    "        \"Gorva\": 25,\n",
    "        \"vadodara\": 46\n",
    "    },\n",
    "    \"Tablet\": {\n",
    "        \"Ahmadabad\": 37,\n",
    "        \"Gorva\": 35,\n",
    "        \"vadodara\": 28\n",
    "    },\n",
    "    \"TV\": {\n",
    "        \"Ahmadabad\":50,\n",
    "        \"Gorva\":55,\n",
    "        \"vadodara\": 38\n",
    "    }\n",
    "}\n",
    "display_product_stock(stock_at_locations)\n"
   ]
  },
  {
   "cell_type": "code",
   "execution_count": 65,
   "id": "aa028a05",
   "metadata": {
    "scrolled": true
   },
   "outputs": [
    {
     "name": "stdout",
     "output_type": "stream",
     "text": [
      "Loc: Ahmdabad\n",
      "- Macbook\n",
      "- Earphones\n",
      "\n",
      "Loc: pune\n",
      "- smartphones\n",
      "\n",
      "Loc: vadodara\n",
      "- Laptop\n",
      "- TV\n",
      "\n"
     ]
    }
   ],
   "source": [
    "from itertools import groupby\n",
    "\n",
    "products = [\n",
    "    {\"name\": \"Laptop\", \"location\": \"vadodara\"},\n",
    "    {\"name\": \"Macbook\", \"location\": \"Ahmdabad\"},\n",
    "    {\"name\": \"TV\", \"location\": \"vadodara\"},\n",
    "    {\"name\": \"Earphones\", \"location\": \"Ahmdabad\"},\n",
    "    {\"name\": \"smartphones\", \"location\": \"pune\"}\n",
    "]\n",
    "\n",
    "products.sort(key=lambda x: x[\"location\"])\n",
    "\n",
    "grouped_products = groupby(products, key=lambda x: x[\"location\"])\n",
    "\n",
    "for location, location_products in grouped_products:\n",
    "    print(f\"Loc: {location}\")\n",
    "    for product in location_products:\n",
    "        print(f\"- {product['name']}\")\n",
    "    print() \n"
   ]
  },
  {
   "cell_type": "code",
   "execution_count": 45,
   "id": "face6ced",
   "metadata": {},
   "outputs": [],
   "source": [
    "location = \"location a\"\n",
    "movement_details = \"stock incresed by units\"\n",
    "file_path = f\"/location1/{location}_location1.txt\"\n",
    "\n",
    "with open(\"D:/data/location1.txt\",\"a\")as file:\n",
    "    file.write(movement_details +\"/n\")\n",
    "    "
   ]
  },
  {
   "cell_type": "code",
   "execution_count": 50,
   "id": "d9da116b",
   "metadata": {},
   "outputs": [
    {
     "name": "stdout",
     "output_type": "stream",
     "text": [
      "product quantity 10 moved from Location2 to Location3.\n",
      "product quantity 3 moved from Location4 to Location1.\n",
      "product quantity 10 moved from Location2 to Location3.\n",
      "product quantity 3 moved from Location4 to Location1.\n",
      "product quantity 10 moved from Location2 to Location3.\n",
      "product quantity 3 moved from Location4 to Location1.\n",
      "product quantity 10 moved from Location2 to Location3.\n",
      "product quantity 3 moved from Location4 to Location1.\n",
      "product quantity 10 moved from Location2 to Location3.\n",
      "product quantity 3 moved from Location4 to Location1.\n",
      "product quantity 10 moved from Location2 to Location3.\n",
      "product quantity 3 moved from Location4 to Location1.\n",
      "product quantity 10 moved from Location2 to Location3.\n",
      "product quantity 3 moved from Location4 to Location1.\n",
      "product quantity 10 moved from Location2 to Location3.\n",
      "product quantity 3 moved from Location4 to Location1.\n",
      "product quantity 10 moved from Location2 to Location3.\n",
      "product quantity 3 moved from Location4 to Location1.\n",
      "product quantity 10 moved from Location2 to Location3.\n",
      "product quantity 3 moved from Location4 to Location1.\n",
      "stock incresed by units/nstock incresed by units/nstock incresed by units/n\n"
     ]
    }
   ],
   "source": [
    "def display_location1(location):\n",
    "    file_path = f\"/location1.{location}_location1.text\"\n",
    "    \n",
    "    try :\n",
    "        with open(\"D:/data/location1.txt\",\"r\")as file:\n",
    "            movements = file.readlines()\n",
    "            for movement in movements:\n",
    "                 print(movement.strip())\n",
    "    except FileNotFoundError:\n",
    "        print(\"No stock.\")\n",
    "        \n",
    "            \n",
    "display_location1(\"location a\")\n",
    "    "
   ]
  },
  {
   "cell_type": "code",
   "execution_count": 67,
   "id": "16ac19e1",
   "metadata": {},
   "outputs": [
    {
     "name": "stdout",
     "output_type": "stream",
     "text": [
      "cloudinfosoft\n",
      "clf@gmail.com\n",
      "1234567894\n",
      "vadodara\n",
      "Gujarat\n",
      "India\n",
      "shipping\n"
     ]
    }
   ],
   "source": [
    "class Customer:\n",
    "    def __init__(self,name,email,phone,city,state,country,type):\n",
    "        self.name = self.validate_string(name, \"Name\")\n",
    "        self.email = self.validate_email(email)\n",
    "        self.phone = self.validate_phone(phone)\n",
    "        self.city = self.validate_string(city, \"City\")\n",
    "        self.state = self.validate_string(state, \"State\")\n",
    "        self.country = self.validate_string(country, \"Country\")\n",
    "        self.type = type\n",
    "        \n",
    "    def validate_string(self, value, field_name):\n",
    "        if any(char.isdigit() for char in value):\n",
    "            raise ValueError(f\"{field_name} cannot contain numbers.\")\n",
    "        return value\n",
    "\n",
    "    def validate_email(self, email):\n",
    "        if not re.match(r\"[^@]+@[^@]+\\.[^@]+\", email):\n",
    "            raise ValueError(\"Invalid email address.\")\n",
    "        return email\n",
    "\n",
    "    def validate_phone(self, phone):\n",
    "        if not self.is_valid_phone(phone):\n",
    "            raise ValueError(\"Invalid phone number. Please provide a valid number.\")\n",
    "        return phone\n",
    "\n",
    "    def is_valid_phone(self, phone):\n",
    "        return re.match(r\"^\\d{10}$\", str(phone))\n",
    "\n",
    "    def validate_type(self, customer_type):\n",
    "        allowed_types = [\"company\", \"contact\", \"billing\", \"shipping\"]\n",
    "        if customer_type not in allowed_types:\n",
    "            raise ValueError(\"Invalid customer type.\")\n",
    "        return customer_type\n",
    "\n",
    "        \n",
    "parent_customer = Customer(\"cloudinfosoft\",\"clf@gmail.com\",1234567894,\"vadodara\",\"Gujarat\",\"India\",\"shipping\")\n",
    "\n",
    "print(parent_customer.name)\n",
    "print(parent_customer.email)\n",
    "print(parent_customer.phone)\n",
    "print(parent_customer.city)\n",
    "print(parent_customer.state)\n",
    "print(parent_customer.country)\n",
    "print(parent_customer.type)"
   ]
  },
  {
   "cell_type": "code",
   "execution_count": 101,
   "id": "e4ccb84f",
   "metadata": {},
   "outputs": [
    {
     "name": "stdout",
     "output_type": "stream",
     "text": [
      "order Total Amount: 20500\n",
      "Invalid date\n"
     ]
    }
   ],
   "source": [
    "from datetime import datetime\n",
    "\n",
    "class customer:\n",
    "    def __init__(self, name, address):\n",
    "        self.name = name\n",
    "        self.address = address\n",
    "        \n",
    "class orderline:\n",
    "    def __init__(self, product, quantity, price):\n",
    "        self.product = product\n",
    "        self.quantity = quantity\n",
    "        self.price = price\n",
    "\n",
    "class order:\n",
    "    def __init__(self, number, date, company, billing, shipping, order_lines):\n",
    "        self.number = number\n",
    "        self.date = date\n",
    "        self.company = company\n",
    "        self.billing = billing\n",
    "        self.shipping = shipping\n",
    "        self.order_lines = order_lines\n",
    "        self.calculate_total_amount()\n",
    "\n",
    "    def calculate_total_amount(self):\n",
    "        self.total_amount = sum(item.quantity * item.price for item in self.order_lines)\n",
    "\n",
    "    def set_date(self, date):\n",
    "        if date >= datetime.today():\n",
    "            self.date = date\n",
    "        else:\n",
    "            print(\"Invalid date\")\n",
    "            \n",
    "company = customer(\"clf\", \"makarpura\")\n",
    "billing = customer(\"priti\", \"manjalpur\")\n",
    "shipping =customer(\"pari\", \"maneja\")\n",
    "\n",
    "order_lines = [orderline(\"earphone\", 10, 50), orderline(\"headphones\", 20, 1000)]\n",
    "\n",
    "order_date = datetime(2023, 8, 14)  \n",
    "order1 = order(\"12345\", order_date, company, billing, shipping, order_lines)\n",
    "\n",
    "print(\"order Total Amount:\", order1.total_amount)\n",
    "\n",
    "past_date = datetime(2023, 8, 14)\n",
    "order1.set_date(past_date)\n"
   ]
  },
  {
   "cell_type": "code",
   "execution_count": 14,
   "id": "ee6917a4",
   "metadata": {},
   "outputs": [
    {
     "name": "stdout",
     "output_type": "stream",
     "text": [
      "Product:shampoo quantity:2 price:$10.00 subtotal:$20.00\n"
     ]
    }
   ],
   "source": [
    "class OrderLine:\n",
    "    def __init__(self, order, product, quantity, price):\n",
    "        self.order = order\n",
    "        self.product = product\n",
    "        self.quantity = quantity\n",
    "        self.price = price\n",
    "        self.subtotal = self.quantity * self.price\n",
    "\n",
    "order_line = OrderLine(order=None, product=\"shampoo\", quantity=2, price=10)\n",
    "\n",
    "\n",
    "order_lines = [order_line]\n",
    "for order_line in order_lines:\n",
    "    print(f\"Product:{order_line.product} quantity:{order_line.quantity} price:${order_line.price:.2f} subtotal:${order_line.subtotal:.2f}\")"
   ]
  },
  {
   "cell_type": "code",
   "execution_count": 20,
   "id": "c2d7889a",
   "metadata": {},
   "outputs": [
    {
     "name": "stdout",
     "output_type": "stream",
     "text": [
      "   Order No.       Date   product customerName\n",
      "0        101 2023-02-26   shampoo        priti\n",
      "1        102 2023-05-08  hair oil         pari\n",
      "2        103 2023-06-05  hairband       prisha\n",
      "3        104 2023-03-08   shampoo      prinkal\n",
      "   Order No.       Date   product customerName\n",
      "0        101 2023-02-26   shampoo        priti\n",
      "3        104 2023-03-08   shampoo      prinkal\n",
      "1        102 2023-05-08  hair oil         pari\n",
      "2        103 2023-06-05  hairband       prisha\n",
      "Empty DataFrame\n",
      "Columns: [Order No., Date, product, customerName]\n",
      "Index: []\n",
      "   Order No.       Date  product customerName\n",
      "0        101 2023-02-26  shampoo        priti\n",
      "   Order No.       Date  product customerName\n",
      "0        101 2023-02-26  shampoo        priti\n",
      "3        104 2023-03-08  shampoo      prinkal\n"
     ]
    },
    {
     "name": "stderr",
     "output_type": "stream",
     "text": [
      "C:\\Users\\PRITI VANKAR\\AppData\\Local\\Temp\\ipykernel_10732\\573226932.py:11: UserWarning: Parsing dates in %d-%m-%Y format when dayfirst=False (the default) was specified. Pass `dayfirst=True` or specify a format to silence this warning.\n",
      "  df['Date']=pd.to_datetime(df['Date'])\n"
     ]
    }
   ],
   "source": [
    "import pandas as pd\n",
    "data = {\n",
    "    \"Order No.\" : [101,102,103,104],\n",
    "    \"Date\" : [\"26-02-2023\",\"08-05-2023\",\"05-06-2023\",\"08-03-2023\"],\n",
    "     \"product\" : [\"shampoo\",\"hair oil\",\"hairband\",\"shampoo\"],\n",
    "    \"customerName\" : [\"priti\",\"pari\",\"prisha\",\"prinkal\"]\n",
    "}\n",
    "\n",
    "df = pd.DataFrame(data)\n",
    "\n",
    "df['Date']=pd.to_datetime(df['Date'])\n",
    "\n",
    "def display_order(df):\n",
    "    print(df)\n",
    "    \n",
    "def sort_order(df):\n",
    "    sorted_df=df.sort_values(by='Date')\n",
    "    print(sorted_df)\n",
    "    \n",
    "def filters_orders(df):\n",
    "    current_month = pd.to_datetime('today').month\n",
    "    filtered_df = df[df['Date'].dt.month==current_month]\n",
    "    print(filtered_df)\n",
    "    \n",
    "def search_order(df,order_number):\n",
    "    result = df[df['Order No.']==order_number]\n",
    "    print(result)\n",
    "    \n",
    "def display_products(df,product_name):\n",
    "    product_orders = df[df['product']==product_name]\n",
    "    print(product_orders)\n",
    "    \n",
    "display_order(df)\n",
    "sort_order(df)\n",
    "filters_orders(df)\n",
    "search_order(df,101)\n",
    "display_products(df,\"shampoo\")\n",
    "\n"
   ]
  },
  {
   "cell_type": "code",
   "execution_count": null,
   "id": "f4dfe11b",
   "metadata": {},
   "outputs": [],
   "source": []
  },
  {
   "cell_type": "code",
   "execution_count": null,
   "id": "b261a3dc",
   "metadata": {},
   "outputs": [],
   "source": []
  }
 ],
 "metadata": {
  "kernelspec": {
   "display_name": "Python 3 (ipykernel)",
   "language": "python",
   "name": "python3"
  },
  "language_info": {
   "codemirror_mode": {
    "name": "ipython",
    "version": 3
   },
   "file_extension": ".py",
   "mimetype": "text/x-python",
   "name": "python",
   "nbconvert_exporter": "python",
   "pygments_lexer": "ipython3",
   "version": "3.11.3"
  }
 },
 "nbformat": 4,
 "nbformat_minor": 5
}
