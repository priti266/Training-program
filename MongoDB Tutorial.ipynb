{
 "cells": [
  {
   "cell_type": "markdown",
   "id": "758c41d6",
   "metadata": {},
   "source": [
    "**MongoDB Tutorials**"
   ]
  },
  {
   "cell_type": "code",
   "execution_count": 1,
   "id": "d7833140",
   "metadata": {},
   "outputs": [],
   "source": [
    "import pymongo"
   ]
  },
  {
   "cell_type": "code",
   "execution_count": 7,
   "id": "2dd991c2",
   "metadata": {},
   "outputs": [],
   "source": [
    "import pymongo\n",
    "\n",
    "myclient = pymongo.MongoClient(\"mongodb://localhost:27017/\")\n",
    "\n",
    "mydb = myclient[\"mydatabase\"]"
   ]
  },
  {
   "cell_type": "code",
   "execution_count": 3,
   "id": "b0dee87f",
   "metadata": {},
   "outputs": [
    {
     "name": "stdout",
     "output_type": "stream",
     "text": [
      "['admin', 'config', 'local']\n"
     ]
    }
   ],
   "source": [
    "import pymongo\n",
    "\n",
    "myclient = pymongo.MongoClient('mongodb://localhost:27017/')\n",
    "\n",
    "print(myclient.list_database_names())\n"
   ]
  },
  {
   "cell_type": "code",
   "execution_count": 6,
   "id": "d287788e",
   "metadata": {},
   "outputs": [
    {
     "name": "stdout",
     "output_type": "stream",
     "text": [
      "The database exists.\n"
     ]
    }
   ],
   "source": [
    "dblist = myclient.list_database_names()\n",
    "if \"admin\" in dblist:\n",
    "  print(\"The database exists.\")"
   ]
  },
  {
   "cell_type": "code",
   "execution_count": 9,
   "id": "6708b553",
   "metadata": {},
   "outputs": [],
   "source": [
    "import pymongo\n",
    "\n",
    "myclient = pymongo.MongoClient(\"mongodb://localhost:27017/\")\n",
    "mydb = myclient[\"mydatabase\"]\n",
    "\n",
    "mycol = mydb[\"customers\"]\n"
   ]
  },
  {
   "cell_type": "code",
   "execution_count": 13,
   "id": "a0f46f40",
   "metadata": {},
   "outputs": [],
   "source": [
    "import pymongo\n",
    "\n",
    "myclient = pymongo.MongoClient(\"mongodb://localhost:27017/\")\n",
    "mydb = myclient[\"mydatabase\"]\n",
    "mycol = mydb[\"customers\"]\n",
    "\n",
    "mydict = { \"name\": \"priti\", \"address\": \"vadodara\" }\n",
    "\n",
    "x = mycol.insert_one(mydict)"
   ]
  },
  {
   "cell_type": "code",
   "execution_count": 15,
   "id": "af961466",
   "metadata": {},
   "outputs": [
    {
     "name": "stdout",
     "output_type": "stream",
     "text": [
      "64d220025803c0a13d4ac47a\n"
     ]
    }
   ],
   "source": [
    "import pymongo\n",
    "\n",
    "myclient = pymongo.MongoClient('mongodb://localhost:27017/')\n",
    "mydb = myclient['mydatabase']\n",
    "mycol = mydb[\"customers\"]\n",
    "\n",
    "mydict = { \"name\" : \"pari\" , \"address\" : \"canada\"}\n",
    "\n",
    "x = mycol.insert_one(mydict)\n",
    "\n",
    "print(x.inserted_id)"
   ]
  },
  {
   "cell_type": "code",
   "execution_count": 17,
   "id": "ddf7bf82",
   "metadata": {},
   "outputs": [
    {
     "name": "stdout",
     "output_type": "stream",
     "text": [
      "[ObjectId('64d223995803c0a13d4ac489'), ObjectId('64d223995803c0a13d4ac48a'), ObjectId('64d223995803c0a13d4ac48b'), ObjectId('64d223995803c0a13d4ac48c'), ObjectId('64d223995803c0a13d4ac48d'), ObjectId('64d223995803c0a13d4ac48e'), ObjectId('64d223995803c0a13d4ac48f'), ObjectId('64d223995803c0a13d4ac490'), ObjectId('64d223995803c0a13d4ac491'), ObjectId('64d223995803c0a13d4ac492'), ObjectId('64d223995803c0a13d4ac493'), ObjectId('64d223995803c0a13d4ac494')]\n"
     ]
    }
   ],
   "source": [
    "import pymongo\n",
    "\n",
    "myclient = pymongo.MongoClient(\"mongodb://localhost:27017/\")\n",
    "mydb = myclient[\"mydatabase\"]\n",
    "mycol = mydb[\"customers\"]\n",
    "\n",
    "mylist = [\n",
    "  { \"name\": \"Amy\", \"address\": \"pune\"},\n",
    "  { \"name\": \"Hina\", \"address\": \"mumbai\"},\n",
    "  { \"name\": \"Munny\", \"address\": \"Valley 345\"},\n",
    "  { \"name\": \"Sandy\", \"address\": \"Ocean blvd 2\"},\n",
    "  { \"name\": \"Bijal\", \"address\": \"Green Grass 1\"},\n",
    "  { \"name\": \"Ruchi\", \"address\": \"Sky st 331\"},\n",
    "  { \"name\": \"Siya\", \"address\": \"One way 98\"},\n",
    "  { \"name\": \"Virat\", \"address\": \"Yellow Garden 2\"},\n",
    "  { \"name\": \"Bina\", \"address\": \"Park Lane 38\"},\n",
    "  { \"name\": \"vani\", \"address\": \"Central st 954\"},\n",
    "  { \"name\": \"Charmi\", \"address\": \"Main Road 989\"},\n",
    "  { \"name\": \"Vivek\", \"address\": \"Sideway 1633\"}\n",
    "]\n",
    "\n",
    "x = mycol.insert_many(mylist)\n",
    "\n",
    "print(x.inserted_ids)"
   ]
  },
  {
   "cell_type": "code",
   "execution_count": 18,
   "id": "71b33802",
   "metadata": {},
   "outputs": [
    {
     "name": "stdout",
     "output_type": "stream",
     "text": [
      "[1, 2, 3, 4, 5, 6, 7, 8, 9, 10, 11, 12, 13, 14]\n"
     ]
    }
   ],
   "source": [
    "import pymongo\n",
    "\n",
    "myclient = pymongo.MongoClient(\"mongodb://localhost:27017/\")\n",
    "mydb = myclient[\"mydatabase\"]\n",
    "mycol = mydb[\"customers\"]\n",
    "\n",
    "mylist = [\n",
    "  { \"_id\": 1, \"name\": \"John\", \"address\": \"pune\"},\n",
    "  { \"_id\": 2, \"name\": \"Peter\", \"address\": \"mumbai\"},\n",
    "  { \"_id\": 3, \"name\": \"Amy\", \"address\": \"Apple st 652\"},\n",
    "  { \"_id\": 4, \"name\": \"Hannah\", \"address\": \"Mountain 21\"},\n",
    "  { \"_id\": 5, \"name\": \"Michael\", \"address\": \"Valley 345\"},\n",
    "  { \"_id\": 6, \"name\": \"Sandy\", \"address\": \"Ocean blvd 2\"},\n",
    "  { \"_id\": 7, \"name\": \"Betty\", \"address\": \"Green Grass 1\"},\n",
    "  { \"_id\": 8, \"name\": \"Richard\", \"address\": \"Sky st 331\"},\n",
    "  { \"_id\": 9, \"name\": \"Susan\", \"address\": \"One way 98\"},\n",
    "  { \"_id\": 10, \"name\": \"Vicky\", \"address\": \"Yellow Garden 2\"},\n",
    "  { \"_id\": 11, \"name\": \"Ben\", \"address\": \"Park Lane 38\"},\n",
    "  { \"_id\": 12, \"name\": \"William\", \"address\": \"Central st 954\"},\n",
    "  { \"_id\": 13, \"name\": \"Chuck\", \"address\": \"Main Road 989\"},\n",
    "  { \"_id\": 14, \"name\": \"Viola\", \"address\": \"Sideway 1633\"}\n",
    "]\n",
    "\n",
    "x = mycol.insert_many(mylist)\n",
    "\n",
    "#print list of the _id values of the inserted documents:\n",
    "print(x.inserted_ids)\n"
   ]
  },
  {
   "cell_type": "code",
   "execution_count": 21,
   "id": "92a6c9bf",
   "metadata": {},
   "outputs": [
    {
     "name": "stdout",
     "output_type": "stream",
     "text": [
      "{'_id': ObjectId('64d21eeb5803c0a13d4ac478'), 'name': 'priti', 'address': 'vadodara'}\n"
     ]
    }
   ],
   "source": [
    "import pymongo\n",
    "\n",
    "myclient = pymongo.MongoClient(\"mongodb://localhost:27017/\")\n",
    "mydb = myclient[\"mydatabase\"]\n",
    "mycol = mydb[\"customers\"]\n",
    "\n",
    "x = mycol.find_one()\n",
    "\n",
    "print(x)\n"
   ]
  },
  {
   "cell_type": "code",
   "execution_count": 25,
   "id": "a3717a8c",
   "metadata": {},
   "outputs": [
    {
     "name": "stdout",
     "output_type": "stream",
     "text": [
      "{'_id': ObjectId('64d21eeb5803c0a13d4ac478'), 'name': 'priti', 'address': 'vadodara'}\n",
      "{'_id': ObjectId('64d220025803c0a13d4ac47a'), 'name': 'pari', 'address': 'canada'}\n",
      "{'_id': ObjectId('64d222b85803c0a13d4ac47c'), 'name': 'Amy', 'address': 'pune'}\n",
      "{'_id': ObjectId('64d222b85803c0a13d4ac47d'), 'name': 'Hina', 'address': 'Mumbai'}\n",
      "{'_id': ObjectId('64d222b85803c0a13d4ac47e'), 'name': 'Munny', 'address': 'Valley 345'}\n",
      "{'_id': ObjectId('64d222b85803c0a13d4ac47f'), 'name': 'Sandy', 'address': 'Ocean blvd 2'}\n",
      "{'_id': ObjectId('64d222b85803c0a13d4ac480'), 'name': 'Bijal', 'address': 'Green Grass 1'}\n",
      "{'_id': ObjectId('64d222b85803c0a13d4ac481'), 'name': 'Ruchi', 'address': 'Sky st 331'}\n",
      "{'_id': ObjectId('64d222b85803c0a13d4ac482'), 'name': 'Siya', 'address': 'One way 98'}\n",
      "{'_id': ObjectId('64d222b85803c0a13d4ac483'), 'name': 'Virat', 'address': 'Yellow Garden 2'}\n",
      "{'_id': ObjectId('64d222b85803c0a13d4ac484'), 'name': 'Bina', 'address': 'Park Lane 38'}\n",
      "{'_id': ObjectId('64d222b85803c0a13d4ac485'), 'name': 'vani', 'address': 'Central st 954'}\n",
      "{'_id': ObjectId('64d222b85803c0a13d4ac486'), 'name': 'Charmi', 'address': 'Main Road 989'}\n",
      "{'_id': ObjectId('64d222b85803c0a13d4ac487'), 'name': 'Vivek', 'address': 'Sideway 1633'}\n",
      "{'_id': ObjectId('64d223995803c0a13d4ac489'), 'name': 'Amy', 'address': 'pune'}\n",
      "{'_id': ObjectId('64d223995803c0a13d4ac48a'), 'name': 'Hina', 'address': 'mumbai'}\n",
      "{'_id': ObjectId('64d223995803c0a13d4ac48b'), 'name': 'Munny', 'address': 'Valley 345'}\n",
      "{'_id': ObjectId('64d223995803c0a13d4ac48c'), 'name': 'Sandy', 'address': 'Ocean blvd 2'}\n",
      "{'_id': ObjectId('64d223995803c0a13d4ac48d'), 'name': 'Bijal', 'address': 'Green Grass 1'}\n",
      "{'_id': ObjectId('64d223995803c0a13d4ac48e'), 'name': 'Ruchi', 'address': 'Sky st 331'}\n",
      "{'_id': ObjectId('64d223995803c0a13d4ac48f'), 'name': 'Siya', 'address': 'One way 98'}\n",
      "{'_id': ObjectId('64d223995803c0a13d4ac490'), 'name': 'Virat', 'address': 'Yellow Garden 2'}\n",
      "{'_id': ObjectId('64d223995803c0a13d4ac491'), 'name': 'Bina', 'address': 'Park Lane 38'}\n",
      "{'_id': ObjectId('64d223995803c0a13d4ac492'), 'name': 'vani', 'address': 'Central st 954'}\n",
      "{'_id': ObjectId('64d223995803c0a13d4ac493'), 'name': 'Charmi', 'address': 'Main Road 989'}\n",
      "{'_id': ObjectId('64d223995803c0a13d4ac494'), 'name': 'Vivek', 'address': 'Sideway 1633'}\n",
      "{'_id': 1, 'name': 'John', 'address': 'pune'}\n",
      "{'_id': 2, 'name': 'Peter', 'address': 'mumbai'}\n",
      "{'_id': 3, 'name': 'Amy', 'address': 'Apple st 652'}\n",
      "{'_id': 4, 'name': 'Hannah', 'address': 'Mountain 21'}\n",
      "{'_id': 5, 'name': 'Michael', 'address': 'Valley 345'}\n",
      "{'_id': 6, 'name': 'Sandy', 'address': 'Ocean blvd 2'}\n",
      "{'_id': 7, 'name': 'Betty', 'address': 'Green Grass 1'}\n",
      "{'_id': 8, 'name': 'Richard', 'address': 'Sky st 331'}\n",
      "{'_id': 9, 'name': 'Susan', 'address': 'One way 98'}\n",
      "{'_id': 10, 'name': 'Vicky', 'address': 'Yellow Garden 2'}\n",
      "{'_id': 11, 'name': 'Ben', 'address': 'Park Lane 38'}\n",
      "{'_id': 12, 'name': 'William', 'address': 'Central st 954'}\n",
      "{'_id': 13, 'name': 'Chuck', 'address': 'Main Road 989'}\n",
      "{'_id': 14, 'name': 'Viola', 'address': 'Sideway 1633'}\n"
     ]
    }
   ],
   "source": [
    "import pymongo\n",
    "\n",
    "myclient = pymongo.MongoClient(\"mongodb://localhost:27017/\")\n",
    "mydb = myclient[\"mydatabase\"]\n",
    "mycol = mydb[\"customers\"]\n",
    "\n",
    "for x in mycol.find():\n",
    "\n",
    "    print(x)\n"
   ]
  },
  {
   "cell_type": "code",
   "execution_count": 30,
   "id": "701e9498",
   "metadata": {},
   "outputs": [
    {
     "name": "stdout",
     "output_type": "stream",
     "text": [
      "{'name': 'priti', 'address': 'vadodara'}\n",
      "{'name': 'pari', 'address': 'canada'}\n",
      "{'name': 'Amy', 'address': 'pune'}\n",
      "{'name': 'Hina', 'address': 'Mumbai'}\n",
      "{'name': 'Munny', 'address': 'Valley 345'}\n",
      "{'name': 'Sandy', 'address': 'Ocean blvd 2'}\n",
      "{'name': 'Bijal', 'address': 'Green Grass 1'}\n",
      "{'name': 'Ruchi', 'address': 'Sky st 331'}\n",
      "{'name': 'Siya', 'address': 'One way 98'}\n",
      "{'name': 'Virat', 'address': 'Yellow Garden 2'}\n",
      "{'name': 'Bina', 'address': 'Park Lane 38'}\n",
      "{'name': 'vani', 'address': 'Central st 954'}\n",
      "{'name': 'Charmi', 'address': 'Main Road 989'}\n",
      "{'name': 'Vivek', 'address': 'Sideway 1633'}\n",
      "{'name': 'Amy', 'address': 'pune'}\n",
      "{'name': 'Hina', 'address': 'mumbai'}\n",
      "{'name': 'Munny', 'address': 'Valley 345'}\n",
      "{'name': 'Sandy', 'address': 'Ocean blvd 2'}\n",
      "{'name': 'Bijal', 'address': 'Green Grass 1'}\n",
      "{'name': 'Ruchi', 'address': 'Sky st 331'}\n",
      "{'name': 'Siya', 'address': 'One way 98'}\n",
      "{'name': 'Virat', 'address': 'Yellow Garden 2'}\n",
      "{'name': 'Bina', 'address': 'Park Lane 38'}\n",
      "{'name': 'vani', 'address': 'Central st 954'}\n",
      "{'name': 'Charmi', 'address': 'Main Road 989'}\n",
      "{'name': 'Vivek', 'address': 'Sideway 1633'}\n",
      "{'name': 'John', 'address': 'pune'}\n",
      "{'name': 'Peter', 'address': 'mumbai'}\n",
      "{'name': 'Amy', 'address': 'Apple st 652'}\n",
      "{'name': 'Hannah', 'address': 'Mountain 21'}\n",
      "{'name': 'Michael', 'address': 'Valley 345'}\n",
      "{'name': 'Sandy', 'address': 'Ocean blvd 2'}\n",
      "{'name': 'Betty', 'address': 'Green Grass 1'}\n",
      "{'name': 'Richard', 'address': 'Sky st 331'}\n",
      "{'name': 'Susan', 'address': 'One way 98'}\n",
      "{'name': 'Vicky', 'address': 'Yellow Garden 2'}\n",
      "{'name': 'Ben', 'address': 'Park Lane 38'}\n",
      "{'name': 'William', 'address': 'Central st 954'}\n",
      "{'name': 'Chuck', 'address': 'Main Road 989'}\n",
      "{'name': 'Viola', 'address': 'Sideway 1633'}\n"
     ]
    }
   ],
   "source": [
    "import pymongo\n",
    "\n",
    "myclient = pymongo.MongoClient(\"mongodb://localhost:27017/\")\n",
    "mydb = myclient[\"mydatabase\"]\n",
    "mycol = mydb[\"customers\"]\n",
    "\n",
    "for x in mycol.find({},{\"_id\" : 0, \"name\" : 1, \"address\" : 1}):\n",
    "    print(x)"
   ]
  },
  {
   "cell_type": "code",
   "execution_count": 34,
   "id": "4763aead",
   "metadata": {},
   "outputs": [
    {
     "name": "stdout",
     "output_type": "stream",
     "text": [
      "{'_id': ObjectId('64d21eeb5803c0a13d4ac478'), 'name': 'priti'}\n",
      "{'_id': ObjectId('64d220025803c0a13d4ac47a'), 'name': 'pari'}\n",
      "{'_id': ObjectId('64d222b85803c0a13d4ac47c'), 'name': 'Amy'}\n",
      "{'_id': ObjectId('64d222b85803c0a13d4ac47d'), 'name': 'Hina'}\n",
      "{'_id': ObjectId('64d222b85803c0a13d4ac47e'), 'name': 'Munny'}\n",
      "{'_id': ObjectId('64d222b85803c0a13d4ac47f'), 'name': 'Sandy'}\n",
      "{'_id': ObjectId('64d222b85803c0a13d4ac480'), 'name': 'Bijal'}\n",
      "{'_id': ObjectId('64d222b85803c0a13d4ac481'), 'name': 'Ruchi'}\n",
      "{'_id': ObjectId('64d222b85803c0a13d4ac482'), 'name': 'Siya'}\n",
      "{'_id': ObjectId('64d222b85803c0a13d4ac483'), 'name': 'Virat'}\n",
      "{'_id': ObjectId('64d222b85803c0a13d4ac484'), 'name': 'Bina'}\n",
      "{'_id': ObjectId('64d222b85803c0a13d4ac485'), 'name': 'vani'}\n",
      "{'_id': ObjectId('64d222b85803c0a13d4ac486'), 'name': 'Charmi'}\n",
      "{'_id': ObjectId('64d222b85803c0a13d4ac487'), 'name': 'Vivek'}\n",
      "{'_id': ObjectId('64d223995803c0a13d4ac489'), 'name': 'Amy'}\n",
      "{'_id': ObjectId('64d223995803c0a13d4ac48a'), 'name': 'Hina'}\n",
      "{'_id': ObjectId('64d223995803c0a13d4ac48b'), 'name': 'Munny'}\n",
      "{'_id': ObjectId('64d223995803c0a13d4ac48c'), 'name': 'Sandy'}\n",
      "{'_id': ObjectId('64d223995803c0a13d4ac48d'), 'name': 'Bijal'}\n",
      "{'_id': ObjectId('64d223995803c0a13d4ac48e'), 'name': 'Ruchi'}\n",
      "{'_id': ObjectId('64d223995803c0a13d4ac48f'), 'name': 'Siya'}\n",
      "{'_id': ObjectId('64d223995803c0a13d4ac490'), 'name': 'Virat'}\n",
      "{'_id': ObjectId('64d223995803c0a13d4ac491'), 'name': 'Bina'}\n",
      "{'_id': ObjectId('64d223995803c0a13d4ac492'), 'name': 'vani'}\n",
      "{'_id': ObjectId('64d223995803c0a13d4ac493'), 'name': 'Charmi'}\n",
      "{'_id': ObjectId('64d223995803c0a13d4ac494'), 'name': 'Vivek'}\n",
      "{'_id': 1, 'name': 'John'}\n",
      "{'_id': 2, 'name': 'Peter'}\n",
      "{'_id': 3, 'name': 'Amy'}\n",
      "{'_id': 4, 'name': 'Hannah'}\n",
      "{'_id': 5, 'name': 'Michael'}\n",
      "{'_id': 6, 'name': 'Sandy'}\n",
      "{'_id': 7, 'name': 'Betty'}\n",
      "{'_id': 8, 'name': 'Richard'}\n",
      "{'_id': 9, 'name': 'Susan'}\n",
      "{'_id': 10, 'name': 'Vicky'}\n",
      "{'_id': 11, 'name': 'Ben'}\n",
      "{'_id': 12, 'name': 'William'}\n",
      "{'_id': 13, 'name': 'Chuck'}\n",
      "{'_id': 14, 'name': 'Viola'}\n"
     ]
    }
   ],
   "source": [
    "import pymongo \n",
    "\n",
    "myclient = pymongo.MongoClient(\"mongodb://localhost:27017\")\n",
    "mydb = myclient[\"mydatabase\"]\n",
    "mycol = mydb[\"customers\"]\n",
    "\n",
    "for x in mycol.find({},{\"address\" : 0}):\n",
    "    print(x)"
   ]
  },
  {
   "cell_type": "code",
   "execution_count": 35,
   "id": "da2467d8",
   "metadata": {
    "scrolled": true
   },
   "outputs": [
    {
     "name": "stdout",
     "output_type": "stream",
     "text": [
      "{'_id': ObjectId('64d222b85803c0a13d4ac47c'), 'name': 'Amy', 'address': 'pune'}\n",
      "{'_id': ObjectId('64d223995803c0a13d4ac489'), 'name': 'Amy', 'address': 'pune'}\n",
      "{'_id': 1, 'name': 'John', 'address': 'pune'}\n"
     ]
    }
   ],
   "source": [
    "query = {\"address\" : \"pune\"}\n",
    "doc = mycol.find(query)\n",
    "\n",
    "for x in doc :\n",
    "    print(x)"
   ]
  },
  {
   "cell_type": "code",
   "execution_count": 40,
   "id": "19772bd1",
   "metadata": {},
   "outputs": [
    {
     "name": "stdout",
     "output_type": "stream",
     "text": [
      "{'_id': ObjectId('64d21eeb5803c0a13d4ac478'), 'name': 'priti', 'address': 'vadodara'}\n",
      "{'_id': ObjectId('64d220025803c0a13d4ac47a'), 'name': 'pari', 'address': 'canada'}\n",
      "{'_id': ObjectId('64d222b85803c0a13d4ac47c'), 'name': 'Amy', 'address': 'pune'}\n",
      "{'_id': ObjectId('64d222b85803c0a13d4ac47e'), 'name': 'Munny', 'address': 'Valley 345'}\n",
      "{'_id': ObjectId('64d222b85803c0a13d4ac481'), 'name': 'Ruchi', 'address': 'Sky st 331'}\n",
      "{'_id': ObjectId('64d222b85803c0a13d4ac483'), 'name': 'Virat', 'address': 'Yellow Garden 2'}\n",
      "{'_id': ObjectId('64d222b85803c0a13d4ac487'), 'name': 'Vivek', 'address': 'Sideway 1633'}\n",
      "{'_id': ObjectId('64d223995803c0a13d4ac489'), 'name': 'Amy', 'address': 'pune'}\n",
      "{'_id': ObjectId('64d223995803c0a13d4ac48a'), 'name': 'Hina', 'address': 'mumbai'}\n",
      "{'_id': ObjectId('64d223995803c0a13d4ac48b'), 'name': 'Munny', 'address': 'Valley 345'}\n",
      "{'_id': ObjectId('64d223995803c0a13d4ac48e'), 'name': 'Ruchi', 'address': 'Sky st 331'}\n",
      "{'_id': ObjectId('64d223995803c0a13d4ac490'), 'name': 'Virat', 'address': 'Yellow Garden 2'}\n",
      "{'_id': ObjectId('64d223995803c0a13d4ac494'), 'name': 'Vivek', 'address': 'Sideway 1633'}\n",
      "{'_id': 1, 'name': 'John', 'address': 'pune'}\n",
      "{'_id': 2, 'name': 'Peter', 'address': 'mumbai'}\n",
      "{'_id': 5, 'name': 'Michael', 'address': 'Valley 345'}\n",
      "{'_id': 8, 'name': 'Richard', 'address': 'Sky st 331'}\n",
      "{'_id': 10, 'name': 'Vicky', 'address': 'Yellow Garden 2'}\n",
      "{'_id': 14, 'name': 'Viola', 'address': 'Sideway 1633'}\n"
     ]
    }
   ],
   "source": [
    "import pymongo\n",
    "\n",
    "myclient = pymongo.MongoClient(\"mongodb://localhost:27017/\")\n",
    "mydb = myclient[\"mydatabase\"]\n",
    "mycol = mydb[\"customers\"]\n",
    "\n",
    "myquery = { \"address\": {\"$gt\": \"S\"} }\n",
    "\n",
    "mydoc = mycol.find(myquery)\n",
    "\n",
    "for x in mydoc:\n",
    "  print(x)"
   ]
  },
  {
   "cell_type": "code",
   "execution_count": 41,
   "id": "63c9f050",
   "metadata": {},
   "outputs": [
    {
     "name": "stdout",
     "output_type": "stream",
     "text": [
      "{'_id': ObjectId('64d222b85803c0a13d4ac481'), 'name': 'Ruchi', 'address': 'Sky st 331'}\n",
      "{'_id': ObjectId('64d222b85803c0a13d4ac487'), 'name': 'Vivek', 'address': 'Sideway 1633'}\n",
      "{'_id': ObjectId('64d223995803c0a13d4ac48e'), 'name': 'Ruchi', 'address': 'Sky st 331'}\n",
      "{'_id': ObjectId('64d223995803c0a13d4ac494'), 'name': 'Vivek', 'address': 'Sideway 1633'}\n",
      "{'_id': 8, 'name': 'Richard', 'address': 'Sky st 331'}\n",
      "{'_id': 14, 'name': 'Viola', 'address': 'Sideway 1633'}\n"
     ]
    }
   ],
   "source": [
    "import pymongo\n",
    "\n",
    "myclient = pymongo.MongoClient(\"mongodb://localhost:27017/\")\n",
    "mydb = myclient[\"mydatabase\"]\n",
    "mycol = mydb[\"customers\"]\n",
    "\n",
    "myquery = { \"address\": {\"$regex\": \"^S\"}}\n",
    "\n",
    "mydoc = mycol.find(myquery)\n",
    "\n",
    "for x in mydoc:\n",
    "  print(x)"
   ]
  },
  {
   "cell_type": "code",
   "execution_count": 42,
   "id": "9cc30be2",
   "metadata": {},
   "outputs": [
    {
     "name": "stdout",
     "output_type": "stream",
     "text": [
      "{'_id': ObjectId('64d222b85803c0a13d4ac47c'), 'name': 'Amy', 'address': 'pune'}\n",
      "{'_id': ObjectId('64d223995803c0a13d4ac489'), 'name': 'Amy', 'address': 'pune'}\n",
      "{'_id': 3, 'name': 'Amy', 'address': 'Apple st 652'}\n",
      "{'_id': 11, 'name': 'Ben', 'address': 'Park Lane 38'}\n",
      "{'_id': 7, 'name': 'Betty', 'address': 'Green Grass 1'}\n",
      "{'_id': ObjectId('64d222b85803c0a13d4ac480'), 'name': 'Bijal', 'address': 'Green Grass 1'}\n",
      "{'_id': ObjectId('64d223995803c0a13d4ac48d'), 'name': 'Bijal', 'address': 'Green Grass 1'}\n",
      "{'_id': ObjectId('64d222b85803c0a13d4ac484'), 'name': 'Bina', 'address': 'Park Lane 38'}\n",
      "{'_id': ObjectId('64d223995803c0a13d4ac491'), 'name': 'Bina', 'address': 'Park Lane 38'}\n",
      "{'_id': ObjectId('64d222b85803c0a13d4ac486'), 'name': 'Charmi', 'address': 'Main Road 989'}\n",
      "{'_id': ObjectId('64d223995803c0a13d4ac493'), 'name': 'Charmi', 'address': 'Main Road 989'}\n",
      "{'_id': 13, 'name': 'Chuck', 'address': 'Main Road 989'}\n",
      "{'_id': 4, 'name': 'Hannah', 'address': 'Mountain 21'}\n",
      "{'_id': ObjectId('64d222b85803c0a13d4ac47d'), 'name': 'Hina', 'address': 'Mumbai'}\n",
      "{'_id': ObjectId('64d223995803c0a13d4ac48a'), 'name': 'Hina', 'address': 'mumbai'}\n",
      "{'_id': 1, 'name': 'John', 'address': 'pune'}\n",
      "{'_id': 5, 'name': 'Michael', 'address': 'Valley 345'}\n",
      "{'_id': ObjectId('64d222b85803c0a13d4ac47e'), 'name': 'Munny', 'address': 'Valley 345'}\n",
      "{'_id': ObjectId('64d223995803c0a13d4ac48b'), 'name': 'Munny', 'address': 'Valley 345'}\n",
      "{'_id': 2, 'name': 'Peter', 'address': 'mumbai'}\n",
      "{'_id': 8, 'name': 'Richard', 'address': 'Sky st 331'}\n",
      "{'_id': ObjectId('64d222b85803c0a13d4ac481'), 'name': 'Ruchi', 'address': 'Sky st 331'}\n",
      "{'_id': ObjectId('64d223995803c0a13d4ac48e'), 'name': 'Ruchi', 'address': 'Sky st 331'}\n",
      "{'_id': ObjectId('64d222b85803c0a13d4ac47f'), 'name': 'Sandy', 'address': 'Ocean blvd 2'}\n",
      "{'_id': ObjectId('64d223995803c0a13d4ac48c'), 'name': 'Sandy', 'address': 'Ocean blvd 2'}\n",
      "{'_id': 6, 'name': 'Sandy', 'address': 'Ocean blvd 2'}\n",
      "{'_id': ObjectId('64d222b85803c0a13d4ac482'), 'name': 'Siya', 'address': 'One way 98'}\n",
      "{'_id': ObjectId('64d223995803c0a13d4ac48f'), 'name': 'Siya', 'address': 'One way 98'}\n",
      "{'_id': 9, 'name': 'Susan', 'address': 'One way 98'}\n",
      "{'_id': 10, 'name': 'Vicky', 'address': 'Yellow Garden 2'}\n",
      "{'_id': 14, 'name': 'Viola', 'address': 'Sideway 1633'}\n",
      "{'_id': ObjectId('64d222b85803c0a13d4ac483'), 'name': 'Virat', 'address': 'Yellow Garden 2'}\n",
      "{'_id': ObjectId('64d223995803c0a13d4ac490'), 'name': 'Virat', 'address': 'Yellow Garden 2'}\n",
      "{'_id': ObjectId('64d222b85803c0a13d4ac487'), 'name': 'Vivek', 'address': 'Sideway 1633'}\n",
      "{'_id': ObjectId('64d223995803c0a13d4ac494'), 'name': 'Vivek', 'address': 'Sideway 1633'}\n",
      "{'_id': 12, 'name': 'William', 'address': 'Central st 954'}\n",
      "{'_id': ObjectId('64d220025803c0a13d4ac47a'), 'name': 'pari', 'address': 'canada'}\n",
      "{'_id': ObjectId('64d21eeb5803c0a13d4ac478'), 'name': 'priti', 'address': 'vadodara'}\n",
      "{'_id': ObjectId('64d222b85803c0a13d4ac485'), 'name': 'vani', 'address': 'Central st 954'}\n",
      "{'_id': ObjectId('64d223995803c0a13d4ac492'), 'name': 'vani', 'address': 'Central st 954'}\n"
     ]
    }
   ],
   "source": [
    "mydoc = mycol.find().sort(\"name\")\n",
    "\n",
    "for x in mydoc :\n",
    "    print(x)"
   ]
  },
  {
   "cell_type": "code",
   "execution_count": 44,
   "id": "97d37278",
   "metadata": {},
   "outputs": [
    {
     "name": "stdout",
     "output_type": "stream",
     "text": [
      "{'_id': ObjectId('64d222b85803c0a13d4ac485'), 'name': 'vani', 'address': 'Central st 954'}\n",
      "{'_id': ObjectId('64d223995803c0a13d4ac492'), 'name': 'vani', 'address': 'Central st 954'}\n",
      "{'_id': ObjectId('64d21eeb5803c0a13d4ac478'), 'name': 'priti', 'address': 'vadodara'}\n",
      "{'_id': ObjectId('64d220025803c0a13d4ac47a'), 'name': 'pari', 'address': 'canada'}\n",
      "{'_id': 12, 'name': 'William', 'address': 'Central st 954'}\n",
      "{'_id': ObjectId('64d222b85803c0a13d4ac487'), 'name': 'Vivek', 'address': 'Sideway 1633'}\n",
      "{'_id': ObjectId('64d223995803c0a13d4ac494'), 'name': 'Vivek', 'address': 'Sideway 1633'}\n",
      "{'_id': ObjectId('64d222b85803c0a13d4ac483'), 'name': 'Virat', 'address': 'Yellow Garden 2'}\n",
      "{'_id': ObjectId('64d223995803c0a13d4ac490'), 'name': 'Virat', 'address': 'Yellow Garden 2'}\n",
      "{'_id': 14, 'name': 'Viola', 'address': 'Sideway 1633'}\n",
      "{'_id': 10, 'name': 'Vicky', 'address': 'Yellow Garden 2'}\n",
      "{'_id': 9, 'name': 'Susan', 'address': 'One way 98'}\n",
      "{'_id': ObjectId('64d222b85803c0a13d4ac482'), 'name': 'Siya', 'address': 'One way 98'}\n",
      "{'_id': ObjectId('64d223995803c0a13d4ac48f'), 'name': 'Siya', 'address': 'One way 98'}\n",
      "{'_id': ObjectId('64d222b85803c0a13d4ac47f'), 'name': 'Sandy', 'address': 'Ocean blvd 2'}\n",
      "{'_id': ObjectId('64d223995803c0a13d4ac48c'), 'name': 'Sandy', 'address': 'Ocean blvd 2'}\n",
      "{'_id': 6, 'name': 'Sandy', 'address': 'Ocean blvd 2'}\n",
      "{'_id': ObjectId('64d222b85803c0a13d4ac481'), 'name': 'Ruchi', 'address': 'Sky st 331'}\n",
      "{'_id': ObjectId('64d223995803c0a13d4ac48e'), 'name': 'Ruchi', 'address': 'Sky st 331'}\n",
      "{'_id': 8, 'name': 'Richard', 'address': 'Sky st 331'}\n",
      "{'_id': 2, 'name': 'Peter', 'address': 'mumbai'}\n",
      "{'_id': ObjectId('64d222b85803c0a13d4ac47e'), 'name': 'Munny', 'address': 'Valley 345'}\n",
      "{'_id': ObjectId('64d223995803c0a13d4ac48b'), 'name': 'Munny', 'address': 'Valley 345'}\n",
      "{'_id': 5, 'name': 'Michael', 'address': 'Valley 345'}\n",
      "{'_id': 1, 'name': 'John', 'address': 'pune'}\n",
      "{'_id': ObjectId('64d222b85803c0a13d4ac47d'), 'name': 'Hina', 'address': 'Mumbai'}\n",
      "{'_id': ObjectId('64d223995803c0a13d4ac48a'), 'name': 'Hina', 'address': 'mumbai'}\n",
      "{'_id': 4, 'name': 'Hannah', 'address': 'Mountain 21'}\n",
      "{'_id': 13, 'name': 'Chuck', 'address': 'Main Road 989'}\n",
      "{'_id': ObjectId('64d222b85803c0a13d4ac486'), 'name': 'Charmi', 'address': 'Main Road 989'}\n",
      "{'_id': ObjectId('64d223995803c0a13d4ac493'), 'name': 'Charmi', 'address': 'Main Road 989'}\n",
      "{'_id': ObjectId('64d222b85803c0a13d4ac484'), 'name': 'Bina', 'address': 'Park Lane 38'}\n",
      "{'_id': ObjectId('64d223995803c0a13d4ac491'), 'name': 'Bina', 'address': 'Park Lane 38'}\n",
      "{'_id': ObjectId('64d222b85803c0a13d4ac480'), 'name': 'Bijal', 'address': 'Green Grass 1'}\n",
      "{'_id': ObjectId('64d223995803c0a13d4ac48d'), 'name': 'Bijal', 'address': 'Green Grass 1'}\n",
      "{'_id': 7, 'name': 'Betty', 'address': 'Green Grass 1'}\n",
      "{'_id': 11, 'name': 'Ben', 'address': 'Park Lane 38'}\n",
      "{'_id': ObjectId('64d222b85803c0a13d4ac47c'), 'name': 'Amy', 'address': 'pune'}\n",
      "{'_id': ObjectId('64d223995803c0a13d4ac489'), 'name': 'Amy', 'address': 'pune'}\n",
      "{'_id': 3, 'name': 'Amy', 'address': 'Apple st 652'}\n"
     ]
    }
   ],
   "source": [
    "import pymongo\n",
    "\n",
    "myclient = pymongo.MongoClient(\"mongodb://localhost:27017/\")\n",
    "mydb = myclient[\"mydatabase\"]\n",
    "mycol = mydb[\"customers\"]\n",
    "\n",
    "mydoc = mycol.find().sort(\"name\",-1)\n",
    "\n",
    "for x in mydoc:\n",
    "    print(x)"
   ]
  },
  {
   "cell_type": "code",
   "execution_count": 47,
   "id": "ae5e99d4",
   "metadata": {},
   "outputs": [
    {
     "name": "stdout",
     "output_type": "stream",
     "text": [
      "{'_id': ObjectId('64d21eeb5803c0a13d4ac478'), 'name': 'priti', 'address': 'vadodara'}\n",
      "{'_id': ObjectId('64d220025803c0a13d4ac47a'), 'name': 'pari', 'address': 'canada'}\n",
      "{'_id': ObjectId('64d222b85803c0a13d4ac47c'), 'name': 'Amy', 'address': 'pune'}\n",
      "{'_id': ObjectId('64d222b85803c0a13d4ac47d'), 'name': 'Hina', 'address': 'Mumbai'}\n",
      "{'_id': ObjectId('64d222b85803c0a13d4ac47e'), 'name': 'Munny', 'address': 'Valley 345'}\n",
      "{'_id': ObjectId('64d222b85803c0a13d4ac47f'), 'name': 'Sandy', 'address': 'Ocean blvd 2'}\n",
      "{'_id': ObjectId('64d222b85803c0a13d4ac480'), 'name': 'Bijal', 'address': 'Green Grass 1'}\n",
      "{'_id': ObjectId('64d222b85803c0a13d4ac481'), 'name': 'Ruchi', 'address': 'Sky st 331'}\n",
      "{'_id': ObjectId('64d222b85803c0a13d4ac482'), 'name': 'Siya', 'address': 'One way 98'}\n",
      "{'_id': ObjectId('64d222b85803c0a13d4ac483'), 'name': 'Virat', 'address': 'Yellow Garden 2'}\n",
      "{'_id': ObjectId('64d222b85803c0a13d4ac484'), 'name': 'Bina', 'address': 'Park Lane 38'}\n",
      "{'_id': ObjectId('64d222b85803c0a13d4ac485'), 'name': 'vani', 'address': 'Central st 954'}\n",
      "{'_id': ObjectId('64d222b85803c0a13d4ac486'), 'name': 'Charmi', 'address': 'Main Road 989'}\n",
      "{'_id': ObjectId('64d222b85803c0a13d4ac487'), 'name': 'Vivek', 'address': 'Sideway 1633'}\n",
      "{'_id': ObjectId('64d223995803c0a13d4ac489'), 'name': 'Amy', 'address': 'pune'}\n",
      "{'_id': ObjectId('64d223995803c0a13d4ac48a'), 'name': 'Hina', 'address': 'mumbai'}\n",
      "{'_id': ObjectId('64d223995803c0a13d4ac48b'), 'name': 'Munny', 'address': 'Valley 345'}\n",
      "{'_id': ObjectId('64d223995803c0a13d4ac48c'), 'name': 'Sandy', 'address': 'Ocean blvd 2'}\n",
      "{'_id': ObjectId('64d223995803c0a13d4ac48d'), 'name': 'Bijal', 'address': 'Green Grass 1'}\n",
      "{'_id': ObjectId('64d223995803c0a13d4ac48e'), 'name': 'Ruchi', 'address': 'Sky st 331'}\n",
      "{'_id': ObjectId('64d223995803c0a13d4ac48f'), 'name': 'Siya', 'address': 'One way 98'}\n",
      "{'_id': ObjectId('64d223995803c0a13d4ac490'), 'name': 'Virat', 'address': 'Yellow Garden 2'}\n",
      "{'_id': ObjectId('64d223995803c0a13d4ac491'), 'name': 'Bina', 'address': 'Park Lane 38'}\n",
      "{'_id': ObjectId('64d223995803c0a13d4ac492'), 'name': 'vani', 'address': 'Central st 954'}\n",
      "{'_id': ObjectId('64d223995803c0a13d4ac493'), 'name': 'Charmi', 'address': 'Main Road 989'}\n",
      "{'_id': ObjectId('64d223995803c0a13d4ac494'), 'name': 'Vivek', 'address': 'Sideway 1633'}\n",
      "{'_id': 1, 'name': 'John', 'address': 'pune'}\n",
      "{'_id': 2, 'name': 'Peter', 'address': 'mumbai'}\n",
      "{'_id': 3, 'name': 'Amy', 'address': 'Apple st 652'}\n",
      "{'_id': 5, 'name': 'Michael', 'address': 'Valley 345'}\n",
      "{'_id': 6, 'name': 'Sandy', 'address': 'Ocean blvd 2'}\n",
      "{'_id': 7, 'name': 'Betty', 'address': 'Green Grass 1'}\n",
      "{'_id': 8, 'name': 'Richard', 'address': 'Sky st 331'}\n",
      "{'_id': 9, 'name': 'Susan', 'address': 'One way 98'}\n",
      "{'_id': 10, 'name': 'Vicky', 'address': 'Yellow Garden 2'}\n",
      "{'_id': 11, 'name': 'Ben', 'address': 'Park Lane 38'}\n",
      "{'_id': 12, 'name': 'William', 'address': 'Central st 954'}\n",
      "{'_id': 13, 'name': 'Chuck', 'address': 'Main Road 989'}\n",
      "{'_id': 14, 'name': 'Viola', 'address': 'Sideway 1633'}\n"
     ]
    }
   ],
   "source": [
    "myquery = {\"address\" : \"Mountain 21\"}\n",
    "\n",
    "mycol.delete_one(myquery)\n",
    "\n",
    "for x in mycol.find() :\n",
    "    print(x)"
   ]
  },
  {
   "cell_type": "code",
   "execution_count": 54,
   "id": "a8b73217",
   "metadata": {},
   "outputs": [
    {
     "name": "stdout",
     "output_type": "stream",
     "text": [
      "6 documents delete.\n"
     ]
    }
   ],
   "source": [
    "import pymongo\n",
    "\n",
    "myclient = pymongo.MongoClient(\"mongodb://localhost:27017/\")\n",
    "mydb = myclient[\"mydatabase\"]\n",
    "mycol = mydb[\"customers\"]\n",
    "\n",
    "myquery = {\"address\" :{\"$regex\" : \"^S\"}}\n",
    "\n",
    "x = mycol.delete_many(myquery)\n",
    "\n",
    "print(x.deleted_count,\"documents delete.\")"
   ]
  },
  {
   "cell_type": "code",
   "execution_count": 56,
   "id": "4c3428c3",
   "metadata": {},
   "outputs": [],
   "source": [
    "mycol.drop()"
   ]
  },
  {
   "cell_type": "code",
   "execution_count": 57,
   "id": "2802884d",
   "metadata": {},
   "outputs": [
    {
     "name": "stdout",
     "output_type": "stream",
     "text": [
      "[ObjectId('64d22ffa5803c0a13d4ac4ac'), ObjectId('64d22ffa5803c0a13d4ac4ad'), ObjectId('64d22ffa5803c0a13d4ac4ae'), ObjectId('64d22ffa5803c0a13d4ac4af'), ObjectId('64d22ffa5803c0a13d4ac4b0'), ObjectId('64d22ffa5803c0a13d4ac4b1'), ObjectId('64d22ffa5803c0a13d4ac4b2'), ObjectId('64d22ffa5803c0a13d4ac4b3'), ObjectId('64d22ffa5803c0a13d4ac4b4'), ObjectId('64d22ffa5803c0a13d4ac4b5'), ObjectId('64d22ffa5803c0a13d4ac4b6'), ObjectId('64d22ffa5803c0a13d4ac4b7')]\n"
     ]
    }
   ],
   "source": [
    "import pymongo\n",
    "\n",
    "myclient = pymongo.MongoClient(\"mongodb://localhost:27017/\")\n",
    "mydb = myclient[\"mydatabase\"]\n",
    "mycol = mydb[\"customers\"]\n",
    "\n",
    "mylist = [\n",
    "  { \"name\": \"Amy\", \"address\": \"Apple st 652\"},\n",
    "  { \"name\": \"Hannah\", \"address\": \"Mountain 21\"},\n",
    "  { \"name\": \"Michael\", \"address\": \"Valley 345\"},\n",
    "  { \"name\": \"Sandy\", \"address\": \"Ocean blvd 2\"},\n",
    "  { \"name\": \"Betty\", \"address\": \"Green Grass 1\"},\n",
    "  { \"name\": \"Richard\", \"address\": \"Sky st 331\"},\n",
    "  { \"name\": \"Susan\", \"address\": \"One way 98\"},\n",
    "  { \"name\": \"Vicky\", \"address\": \"Yellow Garden 2\"},\n",
    "  { \"name\": \"Ben\", \"address\": \"Park Lane 38\"},\n",
    "  { \"name\": \"William\", \"address\": \"Central st 954\"},\n",
    "  { \"name\": \"Chuck\", \"address\": \"Main Road 989\"},\n",
    "  { \"name\": \"Viola\", \"address\": \"Sideway 1633\"}\n",
    "]\n",
    "\n",
    "x = mycol.insert_many(mylist)\n",
    "\n",
    "#print list of the _id values of the inserted documents:\n",
    "print(x.inserted_ids)"
   ]
  },
  {
   "cell_type": "code",
   "execution_count": 58,
   "id": "1bdab18a",
   "metadata": {},
   "outputs": [],
   "source": [
    "mycol.drop()"
   ]
  },
  {
   "cell_type": "code",
   "execution_count": 59,
   "id": "fce93743",
   "metadata": {},
   "outputs": [
    {
     "name": "stdout",
     "output_type": "stream",
     "text": [
      "[1, 2, 3, 4, 5, 6, 7, 8, 9, 10, 11, 12, 13, 14]\n"
     ]
    }
   ],
   "source": [
    "import pymongo\n",
    "\n",
    "myclient = pymongo.MongoClient(\"mongodb://localhost:27017/\")\n",
    "mydb = myclient[\"mydatabase\"]\n",
    "mycol = mydb[\"customers\"]\n",
    "\n",
    "mylist = [\n",
    "  { \"_id\": 1, \"name\": \"John\", \"address\": \"Highway 37\"},\n",
    "  { \"_id\": 2, \"name\": \"Peter\", \"address\": \"Lowstreet 27\"},\n",
    "  { \"_id\": 3, \"name\": \"Amy\", \"address\": \"Apple st 652\"},\n",
    "  { \"_id\": 4, \"name\": \"Hannah\", \"address\": \"Mountain 21\"},\n",
    "  { \"_id\": 5, \"name\": \"Michael\", \"address\": \"Valley 345\"},\n",
    "  { \"_id\": 6, \"name\": \"Sandy\", \"address\": \"Ocean blvd 2\"},\n",
    "  { \"_id\": 7, \"name\": \"Betty\", \"address\": \"Green Grass 1\"},\n",
    "  { \"_id\": 8, \"name\": \"Richard\", \"address\": \"Sky st 331\"},\n",
    "  { \"_id\": 9, \"name\": \"Susan\", \"address\": \"One way 98\"},\n",
    "  { \"_id\": 10, \"name\": \"Vicky\", \"address\": \"Yellow Garden 2\"},\n",
    "  { \"_id\": 11, \"name\": \"Ben\", \"address\": \"Park Lane 38\"},\n",
    "  { \"_id\": 12, \"name\": \"William\", \"address\": \"Central st 954\"},\n",
    "  { \"_id\": 13, \"name\": \"Chuck\", \"address\": \"Main Road 989\"},\n",
    "  { \"_id\": 14, \"name\": \"Viola\", \"address\": \"Sideway 1633\"}\n",
    "]\n",
    "\n",
    "x = mycol.insert_many(mylist)\n",
    "\n",
    "#print list of the _id values of the inserted documents:\n",
    "print(x.inserted_ids)\n"
   ]
  },
  {
   "cell_type": "code",
   "execution_count": 61,
   "id": "a25eccc9",
   "metadata": {},
   "outputs": [
    {
     "name": "stdout",
     "output_type": "stream",
     "text": [
      "{'_id': 1, 'name': 'John', 'address': 'Highway 37'}\n",
      "{'_id': 2, 'name': 'Peter', 'address': 'Lowstreet 27'}\n",
      "{'_id': 3, 'name': 'Amy', 'address': 'Apple st 652'}\n",
      "{'_id': 4, 'name': 'Hannah', 'address': 'Canyon 123'}\n",
      "{'_id': 5, 'name': 'Michael', 'address': 'Canyon 123'}\n",
      "{'_id': 6, 'name': 'Sandy', 'address': 'Ocean blvd 2'}\n",
      "{'_id': 7, 'name': 'Betty', 'address': 'Green Grass 1'}\n",
      "{'_id': 8, 'name': 'Richard', 'address': 'Sky st 331'}\n",
      "{'_id': 9, 'name': 'Susan', 'address': 'One way 98'}\n",
      "{'_id': 10, 'name': 'Vicky', 'address': 'Yellow Garden 2'}\n",
      "{'_id': 11, 'name': 'Ben', 'address': 'Park Lane 38'}\n",
      "{'_id': 12, 'name': 'William', 'address': 'Central st 954'}\n",
      "{'_id': 13, 'name': 'Chuck', 'address': 'Main Road 989'}\n",
      "{'_id': 14, 'name': 'Viola', 'address': 'Sideway 1633'}\n"
     ]
    }
   ],
   "source": [
    "import pymongo\n",
    "\n",
    "myclient = pymongo.MongoClient(\"mongodb://localhost:27017/\")\n",
    "mydb = myclient[\"mydatabase\"]\n",
    "mycol = mydb[\"customers\"]\n",
    "\n",
    "myquery = { \"address\": \"Mountain 21\" }\n",
    "newvalues = { \"$set\": { \"address\": \"Canyon 123\" } }\n",
    "\n",
    "mycol.update_one(myquery, newvalues)\n",
    "\n",
    "for x in mycol.find():\n",
    "  print(x)\n"
   ]
  },
  {
   "cell_type": "code",
   "execution_count": 62,
   "id": "5033fd28",
   "metadata": {},
   "outputs": [
    {
     "name": "stdout",
     "output_type": "stream",
     "text": [
      "2 documents updated.\n"
     ]
    }
   ],
   "source": [
    "myquery = {\"address\" : {\"$regex\" : \"^S\"}}\n",
    "value = {\"$set\" : {\"name\" : \"Minnie\"}}\n",
    "\n",
    "x = mycol.update_many(myquery,value)\n",
    "\n",
    "print(x.modified_count,\"documents updated.\")"
   ]
  },
  {
   "cell_type": "code",
   "execution_count": 63,
   "id": "375ed52a",
   "metadata": {},
   "outputs": [
    {
     "name": "stdout",
     "output_type": "stream",
     "text": [
      "{'_id': 1, 'name': 'John', 'address': 'Highway 37'}\n",
      "{'_id': 2, 'name': 'Peter', 'address': 'Lowstreet 27'}\n",
      "{'_id': 3, 'name': 'Amy', 'address': 'Apple st 652'}\n",
      "{'_id': 4, 'name': 'Hannah', 'address': 'Canyon 123'}\n",
      "{'_id': 5, 'name': 'Michael', 'address': 'Canyon 123'}\n",
      "{'_id': 6, 'name': 'Sandy', 'address': 'Ocean blvd 2'}\n",
      "{'_id': 7, 'name': 'Betty', 'address': 'Green Grass 1'}\n",
      "{'_id': 8, 'name': 'Minnie', 'address': 'Sky st 331'}\n"
     ]
    }
   ],
   "source": [
    "result = mycol.find().limit(8)\n",
    "\n",
    "for x in result :\n",
    "    print(x)"
   ]
  },
  {
   "cell_type": "code",
   "execution_count": null,
   "id": "751447cf",
   "metadata": {},
   "outputs": [],
   "source": []
  }
 ],
 "metadata": {
  "kernelspec": {
   "display_name": "Python 3 (ipykernel)",
   "language": "python",
   "name": "python3"
  },
  "language_info": {
   "codemirror_mode": {
    "name": "ipython",
    "version": 3
   },
   "file_extension": ".py",
   "mimetype": "text/x-python",
   "name": "python",
   "nbconvert_exporter": "python",
   "pygments_lexer": "ipython3",
   "version": "3.11.3"
  }
 },
 "nbformat": 4,
 "nbformat_minor": 5
}
